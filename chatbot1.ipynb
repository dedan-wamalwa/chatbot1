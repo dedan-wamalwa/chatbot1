{
 "cells": [
  {
   "cell_type": "code",
   "execution_count": 2,
   "id": "ce5e01ac",
   "metadata": {},
   "outputs": [],
   "source": [
    "import numpy as np #numerical computation\n",
    "import nltk #for NLP\n",
    "import string #handling strings\n",
    "import random"
   ]
  },
  {
   "cell_type": "code",
   "execution_count": 3,
   "id": "7e17c81c",
   "metadata": {
    "collapsed": true
   },
   "outputs": [
    {
     "name": "stderr",
     "output_type": "stream",
     "text": [
      "[nltk_data] Downloading package punkt to\n",
      "[nltk_data]     C:\\Users\\woded\\AppData\\Roaming\\nltk_data...\n",
      "[nltk_data]   Unzipping tokenizers\\punkt.zip.\n",
      "[nltk_data] Downloading package wordnet to\n",
      "[nltk_data]     C:\\Users\\woded\\AppData\\Roaming\\nltk_data...\n",
      "[nltk_data]   Unzipping corpora\\wordnet.zip.\n"
     ]
    }
   ],
   "source": [
    "f=open('chatbot.txt','r',errors=('ignore'))\n",
    "raw_doc=f.read()\n",
    "raw_doc=raw_doc.lower()\n",
    "nltk.download('punkt') # downloading punkt tokenizer\n",
    "nltk.download('wordnet') #downloading wordnet dictionary\n",
    "sent_token=nltk.sent_tokenize(raw_doc) #conv'ts the document into list of sentences\n",
    "word_token=nltk.word_tokenize(raw_doc) #conv'ts the document into list of words"
   ]
  },
  {
   "cell_type": "code",
   "execution_count": 4,
   "id": "ed14aaa3",
   "metadata": {
    "collapsed": true
   },
   "outputs": [
    {
     "data": {
      "text/plain": [
       "['\\ndata science\\nfrom wikipedia, the free encyclopedia\\njump to navigation\\njump to search\\nnot to be confused with information science.',\n",
       " 'the existence of comet neowise (here depicted as a series of red dots) was discovered by analyzing astronomical survey data acquired by a space telescope, the wide-field infrared survey explorer.']"
      ]
     },
     "execution_count": 4,
     "metadata": {},
     "output_type": "execute_result"
    }
   ],
   "source": [
    "# sent_token[:2]  "
   ]
  },
  {
   "cell_type": "code",
   "execution_count": 5,
   "id": "3b6bcce2",
   "metadata": {
    "collapsed": true
   },
   "outputs": [
    {
     "data": {
      "text/plain": [
       "['data', 'science']"
      ]
     },
     "execution_count": 5,
     "metadata": {},
     "output_type": "execute_result"
    }
   ],
   "source": [
    "# word_token[:2]"
   ]
  },
  {
   "cell_type": "code",
   "execution_count": null,
   "id": "04a77779",
   "metadata": {},
   "outputs": [],
   "source": [
    "# text preprocessing\n"
   ]
  }
 ],
 "metadata": {
  "kernelspec": {
   "display_name": "Python 3 (ipykernel)",
   "language": "python",
   "name": "python3"
  },
  "language_info": {
   "codemirror_mode": {
    "name": "ipython",
    "version": 3
   },
   "file_extension": ".py",
   "mimetype": "text/x-python",
   "name": "python",
   "nbconvert_exporter": "python",
   "pygments_lexer": "ipython3",
   "version": "3.9.12"
  }
 },
 "nbformat": 4,
 "nbformat_minor": 5
}
