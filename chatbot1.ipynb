{
 "cells": [
  {
   "cell_type": "code",
   "execution_count": 1,
   "id": "ce5e01ac",
   "metadata": {},
   "outputs": [],
   "source": [
    "import numpy as np #numerical computation\n",
    "import nltk #for NLP\n",
    "import string #handling strings\n",
    "import random"
   ]
  },
  {
   "cell_type": "code",
   "execution_count": 2,
   "id": "7e17c81c",
   "metadata": {
    "collapsed": true
   },
   "outputs": [
    {
     "name": "stderr",
     "output_type": "stream",
     "text": [
      "[nltk_data] Downloading package punkt to\n",
      "[nltk_data]     C:\\Users\\woded\\AppData\\Roaming\\nltk_data...\n",
      "[nltk_data]   Package punkt is already up-to-date!\n",
      "[nltk_data] Downloading package wordnet to\n",
      "[nltk_data]     C:\\Users\\woded\\AppData\\Roaming\\nltk_data...\n",
      "[nltk_data]   Package wordnet is already up-to-date!\n"
     ]
    }
   ],
   "source": [
    "f=open('chatbot.txt','r',errors=('ignore'))\n",
    "raw_doc=f.read()\n",
    "raw_doc=raw_doc.lower()\n",
    "nltk.download('punkt') # downloading punkt tokenizer\n",
    "nltk.download('wordnet') #downloading wordnet dictionary\n",
    "sent_token=nltk.sent_tokenize(raw_doc) #conv'ts the document into list of sentences\n",
    "word_token=nltk.word_tokenize(raw_doc) #conv'ts the document into list of words"
   ]
  },
  {
   "cell_type": "code",
   "execution_count": 3,
   "id": "ed14aaa3",
   "metadata": {},
   "outputs": [],
   "source": [
    "# sent_token[:2]  "
   ]
  },
  {
   "cell_type": "code",
   "execution_count": 4,
   "id": "3b6bcce2",
   "metadata": {},
   "outputs": [],
   "source": [
    "# word_token[:2]"
   ]
  },
  {
   "cell_type": "code",
   "execution_count": 14,
   "id": "04a77779",
   "metadata": {},
   "outputs": [],
   "source": [
    "# text preprocessing\n",
    "lemmer=nltk.stem.WordNetLemmatizer()\n",
    "# semantically -oriented dictionary of english contained in nltk\n",
    "def LemTokens(tokens):\n",
    "    return [lemmer.lemmatize(token) for token in tokens]\n",
    "rem_punc_dict=dict((ord(punct),None) for punct in string.punctuation)\n",
    "def LemNormalize(text):\n",
    "    return LemTokens(nltk.word_tokenize(text.lower().translate(rem_punc_dict)))"
   ]
  },
  {
   "cell_type": "code",
   "execution_count": 6,
   "id": "bb9c5ee1",
   "metadata": {},
   "outputs": [],
   "source": [
    "# Key word matching\n",
    "greeting_inputs=(\"hello\",\"hi\",\"greetings\",\"sup\",\"what's up\",\"hey\")\n",
    "greeting_response=[\"hey\",\"hi\",\"*nods*\",\"hi there!\",\"hello\",\"Hello I am glad you are talking to me!\"]\n",
    "def greeting(sentence):\n",
    "    for word in sentence.split():\n",
    "        if word.lower() in greeting_inputs:\n",
    "            return random.choice(greeting_response)"
   ]
  },
  {
   "cell_type": "code",
   "execution_count": 7,
   "id": "1f692761",
   "metadata": {},
   "outputs": [],
   "source": [
    "# Response generation\n",
    "# importing necessary libraries\n",
    "from sklearn.feature_extraction.text import TfidfVectorizer\n",
    "# converting a raw document into a matrix of TF-IDF features \n",
    "# Term frequency and inverse document frequency\n",
    "from sklearn.metrics.pairwise import cosine_similarity\n",
    "#  find the similarity between words entered by the user and the words in the corpus\n",
    "# normalized vector"
   ]
  },
  {
   "cell_type": "code",
   "execution_count": 12,
   "id": "8e5af13a",
   "metadata": {},
   "outputs": [],
   "source": [
    "# response generation (cont'd)\n",
    "def response(user_resp):\n",
    "    robo_resp=''\n",
    "    TfidfVec= TfidfVectorizer(tokenizer=LemNormalize, stop_words='english')\n",
    "    tfdif= TfidfVec.fit_transform(sent_token)\n",
    "    vals = cosine_similarity(tfidf[-1], tfidf)\n",
    "    idx=vals.argsort()[0][-2]\n",
    "    flat = vals.flatten()\n",
    "    flat.sort()\n",
    "    req_tfidf = flat[-2]\n",
    "    if(req_tfidf==0):\n",
    "        robo_response=robo_response+\"I am sorry! I don't understand you\"\n",
    "        return robo_response\n",
    "    else:\n",
    "        robo_response = robo_response+sent_tokens[idx]\n",
    "        return robo_response\n",
    "    "
   ]
  },
  {
   "cell_type": "code",
   "execution_count": 15,
   "id": "df996079",
   "metadata": {},
   "outputs": [
    {
     "name": "stdout",
     "output_type": "stream",
     "text": [
      "DORA: My name is Dora. I will respond to you about data science. To quit, just type exit!\n",
      "hi\n",
      "DORA: I am glad you are talking to me!\n",
      "hello\n",
      "DORA: hi there!\n",
      "exit\n",
      "DORA: Goodbye!\n"
     ]
    }
   ],
   "source": [
    "# Defining start and end points of the bot\n",
    "flag= True\n",
    "print(\"DORA: My name is Dora. I will respond to you about data science. To quit, just type exit!\")\n",
    "while (flag==True):\n",
    "    user_input= input()\n",
    "    user_input=user_input.lower()\n",
    "    if (user_input!='exit'):\n",
    "        if (user_input=='thank you' or user_input=='thanks' or user_input=='thank' or user_input=='asante'):\n",
    "            flag= False\n",
    "            print(\"DORA: you are welcome\")\n",
    "        else:\n",
    "            if (greeting(user_input)!=None):\n",
    "                print(\"DORA: \"+greeting(user_input))\n",
    "            else:\n",
    "                sent_token.append(user_input)\n",
    "                word_token=word_token+nltk.word_tokenize(user_input)\n",
    "                final_words=list(set(word_token))\n",
    "                print(\"DORA :\",end=\"\")\n",
    "                print(response(user_input))\n",
    "                sent_tokens.remove(user_input)\n",
    "                \n",
    "    else:\n",
    "        flag=False\n",
    "        print(\"DORA: Goodbye!\")"
   ]
  }
 ],
 "metadata": {
  "kernelspec": {
   "display_name": "Python 3 (ipykernel)",
   "language": "python",
   "name": "python3"
  },
  "language_info": {
   "codemirror_mode": {
    "name": "ipython",
    "version": 3
   },
   "file_extension": ".py",
   "mimetype": "text/x-python",
   "name": "python",
   "nbconvert_exporter": "python",
   "pygments_lexer": "ipython3",
   "version": "3.9.12"
  }
 },
 "nbformat": 4,
 "nbformat_minor": 5
}
